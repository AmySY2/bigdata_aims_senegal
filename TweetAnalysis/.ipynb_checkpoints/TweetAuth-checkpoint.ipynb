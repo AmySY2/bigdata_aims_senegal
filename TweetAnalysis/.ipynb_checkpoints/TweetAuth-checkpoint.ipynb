{
 "metadata": {
  "name": ""
 },
 "nbformat": 3,
 "nbformat_minor": 0,
 "worksheets": [
  {
   "cells": [
    {
     "cell_type": "code",
     "collapsed": false,
     "input": [
      "yabiKey='VGxelbQqaXxvKt9fVFcTXwTGG'\n",
      "yabiSecret='LYdfpzCoW5YhgSaLywuyn85wcdPxqfgWenyyoudeJpSg2YUVtl'\n",
      "yabiID=336537853\n",
      "yabiOwner='yabebalet'\n",
      "yabiAccessToken='336537853-4WEE3R2M2p53Reic7wuDj8dDqv9jAlECJbiPgkcV'\n",
      "yabiAccessTokenSecret='2vh6muiFSENSbPgqXU8wh245DXO7tpfoMggLzyDIkAhmB'\n"
     ],
     "language": "python",
     "metadata": {},
     "outputs": []
    }
   ],
   "metadata": {}
  }
 ]
}